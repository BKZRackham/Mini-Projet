{
 "cells": [
  {
   "cell_type": "code",
   "execution_count": 123,
   "metadata": {},
   "outputs": [],
   "source": [
    "import pandas as pd\n",
    "import numpy as np\n",
    "import matplotlib.pyplot as plt\n",
    "import plotly.express as px\n",
    "import plotly.graph_objects as go\n",
    "import random\n",
    "import seaborn as sns\n",
    "\n",
    "plt.style.use('bmh')"
   ]
  },
  {
   "cell_type": "code",
   "execution_count": 124,
   "metadata": {},
   "outputs": [],
   "source": [
    "\n",
    "\n",
    "import seaborn as sns"
   ]
  },
  {
   "cell_type": "code",
   "execution_count": 125,
   "metadata": {},
   "outputs": [],
   "source": [
    "h = pd.read_csv(\"don_app.csv\",sep=\";\")"
   ]
  },
  {
   "cell_type": "code",
   "execution_count": 126,
   "metadata": {},
   "outputs": [
    {
     "data": {
      "text/plain": [
       "valeur_fonciere               True\n",
       "adresse_numero                True\n",
       "adresse_nom_voie             False\n",
       "adresse_code_voie             True\n",
       "code_type_local              False\n",
       "type_local                   False\n",
       "surface_reelle_bati           True\n",
       "nombre_pieces_principales     True\n",
       "surface_terrain               True\n",
       "longitude                     True\n",
       "latitude                      True\n",
       "dtype: bool"
      ]
     },
     "execution_count": 126,
     "metadata": {},
     "output_type": "execute_result"
    }
   ],
   "source": [
    "h.isnull().any()"
   ]
  },
  {
   "cell_type": "code",
   "execution_count": 127,
   "metadata": {},
   "outputs": [
    {
     "data": {
      "text/plain": [
       "Index(['valeur_fonciere', 'adresse_numero', 'adresse_code_voie',\n",
       "       'surface_reelle_bati', 'nombre_pieces_principales', 'surface_terrain',\n",
       "       'longitude', 'latitude'],\n",
       "      dtype='object')"
      ]
     },
     "execution_count": 127,
     "metadata": {},
     "output_type": "execute_result"
    }
   ],
   "source": [
    "h.columns[h.isnull().any()]"
   ]
  },
  {
   "cell_type": "code",
   "execution_count": 128,
   "metadata": {},
   "outputs": [
    {
     "data": {
      "text/plain": [
       "valeur_fonciere                41\n",
       "adresse_numero                461\n",
       "adresse_nom_voie                0\n",
       "adresse_code_voie             308\n",
       "code_type_local                 0\n",
       "type_local                      0\n",
       "surface_reelle_bati          1175\n",
       "nombre_pieces_principales     739\n",
       "surface_terrain               428\n",
       "longitude                      23\n",
       "latitude                       23\n",
       "dtype: int64"
      ]
     },
     "execution_count": 128,
     "metadata": {},
     "output_type": "execute_result"
    }
   ],
   "source": [
    "h.isnull().sum()"
   ]
  },
  {
   "cell_type": "code",
   "execution_count": 133,
   "metadata": {},
   "outputs": [
    {
     "data": {
      "text/plain": [
       "0"
      ]
     },
     "execution_count": 133,
     "metadata": {},
     "output_type": "execute_result"
    }
   ],
   "source": [
    "h.isnull().sum().sum()"
   ]
  },
  {
   "cell_type": "code",
   "execution_count": 134,
   "metadata": {},
   "outputs": [],
   "source": [
    "column_with_nan = h.columns[h.isnull().any()]\n",
    "for column in column_with_nan:\n",
    "  print(column, h[column].isnull().sum())\n",
    "\n",
    "if h[column].isnull().sum()*100.0/h.shape[0] > 50:\n",
    "  h.drop(column,1, inplace=True)"
   ]
  },
  {
   "cell_type": "code",
   "execution_count": 135,
   "metadata": {},
   "outputs": [
    {
     "name": "stderr",
     "output_type": "stream",
     "text": [
      "C:\\Users\\Ordi\\AppData\\Local\\Temp\\ipykernel_212\\2068585279.py:4: FutureWarning: In a future version of pandas all arguments of DataFrame.drop except for the argument 'labels' will be keyword-only.\n",
      "  h.drop(index_with_nan,0, inplace=True)\n"
     ]
    },
    {
     "data": {
      "text/plain": [
       "(1250, 11)"
      ]
     },
     "execution_count": 135,
     "metadata": {},
     "output_type": "execute_result"
    }
   ],
   "source": [
    "h.index[h.isnull().any(axis=1)]\n",
    "index_with_nan = h.index[h.isnull().any(axis=1)]\n",
    "index_with_nan.shape\n",
    "h.drop(index_with_nan,0, inplace=True)\n",
    "h.shape"
   ]
  },
  {
   "cell_type": "code",
   "execution_count": 140,
   "metadata": {},
   "outputs": [
    {
     "data": {
      "text/html": [
       "<div>\n",
       "<style scoped>\n",
       "    .dataframe tbody tr th:only-of-type {\n",
       "        vertical-align: middle;\n",
       "    }\n",
       "\n",
       "    .dataframe tbody tr th {\n",
       "        vertical-align: top;\n",
       "    }\n",
       "\n",
       "    .dataframe thead th {\n",
       "        text-align: right;\n",
       "    }\n",
       "</style>\n",
       "<table border=\"1\" class=\"dataframe\">\n",
       "  <thead>\n",
       "    <tr style=\"text-align: right;\">\n",
       "      <th></th>\n",
       "      <th>valeur_fonciere</th>\n",
       "      <th>adresse_numero</th>\n",
       "      <th>adresse_nom_voie</th>\n",
       "      <th>adresse_code_voie</th>\n",
       "      <th>code_type_local</th>\n",
       "      <th>type_local</th>\n",
       "      <th>surface_reelle_bati</th>\n",
       "      <th>nombre_pieces_principales</th>\n",
       "      <th>surface_terrain</th>\n",
       "      <th>longitude</th>\n",
       "      <th>latitude</th>\n",
       "    </tr>\n",
       "  </thead>\n",
       "  <tbody>\n",
       "    <tr>\n",
       "      <th>0</th>\n",
       "      <td>260000.0</td>\n",
       "      <td>26.0</td>\n",
       "      <td>RUE DELILLE</td>\n",
       "      <td>582.0</td>\n",
       "      <td>1</td>\n",
       "      <td>Maison</td>\n",
       "      <td>129.0</td>\n",
       "      <td>4.0</td>\n",
       "      <td>351.0</td>\n",
       "      <td>1.071855</td>\n",
       "      <td>49.401886</td>\n",
       "    </tr>\n",
       "    <tr>\n",
       "      <th>2</th>\n",
       "      <td>160000.0</td>\n",
       "      <td>13.0</td>\n",
       "      <td>RUE ALFRED DE MUSSET</td>\n",
       "      <td>40.0</td>\n",
       "      <td>1</td>\n",
       "      <td>Maison</td>\n",
       "      <td>64.0</td>\n",
       "      <td>4.0</td>\n",
       "      <td>452.0</td>\n",
       "      <td>1.070963</td>\n",
       "      <td>49.402764</td>\n",
       "    </tr>\n",
       "    <tr>\n",
       "      <th>3</th>\n",
       "      <td>174000.0</td>\n",
       "      <td>21.0</td>\n",
       "      <td>RUE PAUL VERLAINE</td>\n",
       "      <td>1920.0</td>\n",
       "      <td>1</td>\n",
       "      <td>Maison</td>\n",
       "      <td>64.0</td>\n",
       "      <td>4.0</td>\n",
       "      <td>498.0</td>\n",
       "      <td>1.070475</td>\n",
       "      <td>49.403622</td>\n",
       "    </tr>\n",
       "    <tr>\n",
       "      <th>5</th>\n",
       "      <td>200000.0</td>\n",
       "      <td>2.0</td>\n",
       "      <td>RUE DU MADRILLET</td>\n",
       "      <td>1580.0</td>\n",
       "      <td>2</td>\n",
       "      <td>Appartement</td>\n",
       "      <td>18.0</td>\n",
       "      <td>1.0</td>\n",
       "      <td>105.0</td>\n",
       "      <td>1.074902</td>\n",
       "      <td>49.403036</td>\n",
       "    </tr>\n",
       "    <tr>\n",
       "      <th>6</th>\n",
       "      <td>200000.0</td>\n",
       "      <td>2.0</td>\n",
       "      <td>RUE DU MADRILLET</td>\n",
       "      <td>1580.0</td>\n",
       "      <td>4</td>\n",
       "      <td>Local industriel. commercial ou assimilé</td>\n",
       "      <td>68.0</td>\n",
       "      <td>0.0</td>\n",
       "      <td>105.0</td>\n",
       "      <td>1.074902</td>\n",
       "      <td>49.403036</td>\n",
       "    </tr>\n",
       "    <tr>\n",
       "      <th>...</th>\n",
       "      <td>...</td>\n",
       "      <td>...</td>\n",
       "      <td>...</td>\n",
       "      <td>...</td>\n",
       "      <td>...</td>\n",
       "      <td>...</td>\n",
       "      <td>...</td>\n",
       "      <td>...</td>\n",
       "      <td>...</td>\n",
       "      <td>...</td>\n",
       "      <td>...</td>\n",
       "    </tr>\n",
       "    <tr>\n",
       "      <th>2681</th>\n",
       "      <td>10000.0</td>\n",
       "      <td>19.0</td>\n",
       "      <td>RUE HECTOR MALOT</td>\n",
       "      <td>1120.0</td>\n",
       "      <td>2</td>\n",
       "      <td>Appartement</td>\n",
       "      <td>65.0</td>\n",
       "      <td>3.0</td>\n",
       "      <td>493.0</td>\n",
       "      <td>1.064936</td>\n",
       "      <td>49.396092</td>\n",
       "    </tr>\n",
       "    <tr>\n",
       "      <th>2682</th>\n",
       "      <td>10000.0</td>\n",
       "      <td>19.0</td>\n",
       "      <td>RUE HECTOR MALOT</td>\n",
       "      <td>1120.0</td>\n",
       "      <td>2</td>\n",
       "      <td>Appartement</td>\n",
       "      <td>66.0</td>\n",
       "      <td>3.0</td>\n",
       "      <td>493.0</td>\n",
       "      <td>1.064936</td>\n",
       "      <td>49.396092</td>\n",
       "    </tr>\n",
       "    <tr>\n",
       "      <th>2683</th>\n",
       "      <td>10000.0</td>\n",
       "      <td>19.0</td>\n",
       "      <td>RUE HECTOR MALOT</td>\n",
       "      <td>1120.0</td>\n",
       "      <td>2</td>\n",
       "      <td>Appartement</td>\n",
       "      <td>80.0</td>\n",
       "      <td>4.0</td>\n",
       "      <td>493.0</td>\n",
       "      <td>1.064936</td>\n",
       "      <td>49.396092</td>\n",
       "    </tr>\n",
       "    <tr>\n",
       "      <th>2684</th>\n",
       "      <td>10000.0</td>\n",
       "      <td>19.0</td>\n",
       "      <td>RUE HECTOR MALOT</td>\n",
       "      <td>1120.0</td>\n",
       "      <td>2</td>\n",
       "      <td>Appartement</td>\n",
       "      <td>65.0</td>\n",
       "      <td>3.0</td>\n",
       "      <td>493.0</td>\n",
       "      <td>1.064936</td>\n",
       "      <td>49.396092</td>\n",
       "    </tr>\n",
       "    <tr>\n",
       "      <th>2685</th>\n",
       "      <td>10000.0</td>\n",
       "      <td>19.0</td>\n",
       "      <td>RUE HECTOR MALOT</td>\n",
       "      <td>1120.0</td>\n",
       "      <td>2</td>\n",
       "      <td>Appartement</td>\n",
       "      <td>62.0</td>\n",
       "      <td>3.0</td>\n",
       "      <td>493.0</td>\n",
       "      <td>1.064936</td>\n",
       "      <td>49.396092</td>\n",
       "    </tr>\n",
       "  </tbody>\n",
       "</table>\n",
       "<p>1250 rows × 11 columns</p>\n",
       "</div>"
      ],
      "text/plain": [
       "      valeur_fonciere  adresse_numero      adresse_nom_voie  \\\n",
       "0            260000.0            26.0           RUE DELILLE   \n",
       "2            160000.0            13.0  RUE ALFRED DE MUSSET   \n",
       "3            174000.0            21.0     RUE PAUL VERLAINE   \n",
       "5            200000.0             2.0      RUE DU MADRILLET   \n",
       "6            200000.0             2.0      RUE DU MADRILLET   \n",
       "...               ...             ...                   ...   \n",
       "2681          10000.0            19.0      RUE HECTOR MALOT   \n",
       "2682          10000.0            19.0      RUE HECTOR MALOT   \n",
       "2683          10000.0            19.0      RUE HECTOR MALOT   \n",
       "2684          10000.0            19.0      RUE HECTOR MALOT   \n",
       "2685          10000.0            19.0      RUE HECTOR MALOT   \n",
       "\n",
       "      adresse_code_voie code_type_local  \\\n",
       "0                 582.0               1   \n",
       "2                  40.0               1   \n",
       "3                1920.0               1   \n",
       "5                1580.0               2   \n",
       "6                1580.0               4   \n",
       "...                 ...             ...   \n",
       "2681             1120.0               2   \n",
       "2682             1120.0               2   \n",
       "2683             1120.0               2   \n",
       "2684             1120.0               2   \n",
       "2685             1120.0               2   \n",
       "\n",
       "                                    type_local  surface_reelle_bati  \\\n",
       "0                                       Maison                129.0   \n",
       "2                                       Maison                 64.0   \n",
       "3                                       Maison                 64.0   \n",
       "5                                  Appartement                 18.0   \n",
       "6     Local industriel. commercial ou assimilé                 68.0   \n",
       "...                                        ...                  ...   \n",
       "2681                               Appartement                 65.0   \n",
       "2682                               Appartement                 66.0   \n",
       "2683                               Appartement                 80.0   \n",
       "2684                               Appartement                 65.0   \n",
       "2685                               Appartement                 62.0   \n",
       "\n",
       "      nombre_pieces_principales  surface_terrain  longitude   latitude  \n",
       "0                           4.0            351.0   1.071855  49.401886  \n",
       "2                           4.0            452.0   1.070963  49.402764  \n",
       "3                           4.0            498.0   1.070475  49.403622  \n",
       "5                           1.0            105.0   1.074902  49.403036  \n",
       "6                           0.0            105.0   1.074902  49.403036  \n",
       "...                         ...              ...        ...        ...  \n",
       "2681                        3.0            493.0   1.064936  49.396092  \n",
       "2682                        3.0            493.0   1.064936  49.396092  \n",
       "2683                        4.0            493.0   1.064936  49.396092  \n",
       "2684                        3.0            493.0   1.064936  49.396092  \n",
       "2685                        3.0            493.0   1.064936  49.396092  \n",
       "\n",
       "[1250 rows x 11 columns]"
      ]
     },
     "execution_count": 140,
     "metadata": {},
     "output_type": "execute_result"
    }
   ],
   "source": [
    "h"
   ]
  },
  {
   "cell_type": "code",
   "execution_count": 165,
   "metadata": {},
   "outputs": [
    {
     "name": "stdout",
     "output_type": "stream",
     "text": [
      "13720000.0\n"
     ]
    },
    {
     "data": {
      "text/plain": [
       "10000.0"
      ]
     },
     "execution_count": 165,
     "metadata": {},
     "output_type": "execute_result"
    }
   ],
   "source": [
    "prix=h.iloc[:,0].values\n"
   ]
  },
  {
   "cell_type": "code",
   "execution_count": 178,
   "metadata": {},
   "outputs": [
    {
     "ename": "TypeError",
     "evalue": "'int' object does not support item assignment",
     "output_type": "error",
     "traceback": [
      "\u001b[1;31m---------------------------------------------------------------------------\u001b[0m",
      "\u001b[1;31mTypeError\u001b[0m                                 Traceback (most recent call last)",
      "Cell \u001b[1;32mIn [178], line 5\u001b[0m\n\u001b[0;32m      3\u001b[0m \u001b[39mfor\u001b[39;00m i \u001b[39min\u001b[39;00m \u001b[39mrange\u001b[39m(taille):\n\u001b[0;32m      4\u001b[0m     \u001b[39mif\u001b[39;00m prix[i] \u001b[39m>\u001b[39m\u001b[39m100000\u001b[39m:\n\u001b[1;32m----> 5\u001b[0m         prix_trs[i]\u001b[39m=\u001b[39mnp\u001b[39m.\u001b[39mlog(prix[i])\n",
      "\u001b[1;31mTypeError\u001b[0m: 'int' object does not support item assignment"
     ]
    }
   ],
   "source": [
    "taille=len(prix)-1\n",
    "prix_trs=0\n",
    "for i in range(taille):\n",
    "    if prix[i] >100000:\n",
    "        prix_trs[i]=np.log(prix[i])\n",
    "\n"
   ]
  },
  {
   "cell_type": "code",
   "execution_count": 179,
   "metadata": {},
   "outputs": [
    {
     "name": "stderr",
     "output_type": "stream",
     "text": [
      "C:\\Users\\Ordi\\AppData\\Local\\Temp\\ipykernel_212\\2729097862.py:2: UserWarning: \n",
      "\n",
      "`distplot` is a deprecated function and will be removed in seaborn v0.14.0.\n",
      "\n",
      "Please adapt your code to use either `displot` (a figure-level function with\n",
      "similar flexibility) or `histplot` (an axes-level function for histograms).\n",
      "\n",
      "For a guide to updating your code to use the new functions, please see\n",
      "https://gist.github.com/mwaskom/de44147ed2974457ad6372750bbe5751\n",
      "\n",
      "  sns.distplot(prix)\n"
     ]
    },
    {
     "data": {
      "image/png": "[encoded data removed]",
      "text/plain": [
       "<Figure size 640x480 with 1 Axes>"
      ]
     },
     "metadata": {},
     "output_type": "display_data"
    },
    {
     "name": "stderr",
     "output_type": "stream",
     "text": [
      "C:\\Users\\Ordi\\AppData\\Local\\Temp\\ipykernel_212\\2729097862.py:5: UserWarning: \n",
      "\n",
      "`distplot` is a deprecated function and will be removed in seaborn v0.14.0.\n",
      "\n",
      "Please adapt your code to use either `displot` (a figure-level function with\n",
      "similar flexibility) or `histplot` (an axes-level function for histograms).\n",
      "\n",
      "For a guide to updating your code to use the new functions, please see\n",
      "https://gist.github.com/mwaskom/de44147ed2974457ad6372750bbe5751\n",
      "\n",
      "  sns.distplot(prix_trs)\n",
      "c:\\Users\\Ordi\\miniconda3\\lib\\site-packages\\seaborn\\distributions.py:2511: UserWarning: Dataset has 0 variance; skipping density estimate. Pass `warn_singular=False` to disable this warning.\n",
      "  kdeplot(**{axis: a}, ax=ax, color=kde_color, **kde_kws)\n"
     ]
    },
    {
     "data": {
      "text/plain": [
       "<AxesSubplot: ylabel='Density'>"
      ]
     },
     "execution_count": 179,
     "metadata": {},
     "output_type": "execute_result"
    },
    {
     "data": {
      "image/png": "[encoded data removed]",
      "text/plain": [
       "<Figure size 640x480 with 1 Axes>"
      ]
     },
     "metadata": {},
     "output_type": "display_data"
    }
   ],
   "source": [
    "\n",
    "sns.set_style('darkgrid')\n",
    "sns.distplot(prix)\n",
    "plt.show()\n",
    "sns.set_style('darkgrid')\n",
    "sns.distplot(prix_trs)"
   ]
  },
  {
   "cell_type": "code",
   "execution_count": 147,
   "metadata": {},
   "outputs": [
    {
     "name": "stderr",
     "output_type": "stream",
     "text": [
      "C:\\Users\\Ordi\\AppData\\Local\\Temp\\ipykernel_212\\1918038549.py:2: FutureWarning: The default value of numeric_only in DataFrame.corr is deprecated. In a future version, it will default to False. Select only valid columns or specify the value of numeric_only to silence this warning.\n",
      "  sns.heatmap(h.corr())\n"
     ]
    },
    {
     "data": {
      "text/plain": [
       "<AxesSubplot: >"
      ]
     },
     "execution_count": 147,
     "metadata": {},
     "output_type": "execute_result"
    },
    {
     "data": {
      "image/png": "[encoded data removed]",
      "text/plain": [
       "<Figure size 800x800 with 2 Axes>"
      ]
     },
     "metadata": {},
     "output_type": "display_data"
    }
   ],
   "source": [
    "plt.figure(figsize=(8,8))\n",
    "sns.heatmap(h.corr())"
   ]
  },
  {
   "cell_type": "code",
   "execution_count": null,
   "metadata": {},
   "outputs": [],
   "source": []
  },
  {
   "cell_type": "code",
   "execution_count": null,
   "metadata": {},
   "outputs": [],
   "source": []
  },
  {
   "cell_type": "code",
   "execution_count": null,
   "metadata": {},
   "outputs": [],
   "source": []
  }
 ],
 "metadata": {
  "kernelspec": {
   "display_name": "Python 3",
   "language": "python",
   "name": "python3"
  },
  "language_info": {
   "codemirror_mode": {
    "name": "ipython",
    "version": 3
   },
   "file_extension": ".py",
   "mimetype": "text/x-python",
   "name": "python",
   "nbconvert_exporter": "python",
   "pygments_lexer": "ipython3",
   "version": "3.9.12"
  },
  "orig_nbformat": 4,
  "vscode": {
   "interpreter": {
    "hash": "a6e15c65abf34f99b33476d74fed29135f10c6e35091521328467da101522393"
   }
  }
 },
 "nbformat": 4,
 "nbformat_minor": 2
}
