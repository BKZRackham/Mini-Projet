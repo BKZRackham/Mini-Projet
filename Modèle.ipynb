{
 "cells": [
  {
   "attachments": {},
   "cell_type": "markdown",
   "metadata": {},
   "source": [
    "# Maitrise de Projet  ( Abdellah RAFIK)\n",
    "## Partie SD\n"
   ]
  },
  {
   "attachments": {},
   "cell_type": "markdown",
   "metadata": {},
   "source": [
    "## 1- Présentation\n",
    "\n",
    "Le but de ce projet est de créer une application Android permettant, à partir de renseignements donnés par l’utilisateur, d’estimer le prix d’une maison ou d’un appartement. Dans le cadre de ce projet, on se limitera aux données des transactions immobilières de la commune de Saint-Etienne- du-Rouvray ; on supposera que l’utilisateur souhaite estimer une maison ou un appartement situé dans cette commune.\n"
   ]
  },
  {
   "attachments": {},
   "cell_type": "markdown",
   "metadata": {},
   "source": [
    "### Importation des librairies et modules utiles"
   ]
  },
  {
   "cell_type": "code",
   "execution_count": 3713,
   "metadata": {},
   "outputs": [],
   "source": [
    "import pandas as pd\n",
    "import numpy as np\n",
    "import matplotlib.pyplot as plt\n",
    "import random\n",
    "import seaborn as sns\n",
    "from sklearn.tree import DecisionTreeClassifier\n",
    "from sklearn.model_selection import train_test_split\n",
    "from sklearn.model_selection import GridSearchCV\n",
    "from sklearn.ensemble import RandomForestRegressor\n",
    "from sklearn.preprocessing import OneHotEncoder\n"
   ]
  },
  {
   "attachments": {},
   "cell_type": "markdown",
   "metadata": {},
   "source": [
    "### Importation de la base des données"
   ]
  },
  {
   "attachments": {},
   "cell_type": "markdown",
   "metadata": {},
   "source": [
    "Tout les tableaux Excel ont été fusionnés en 1 seul nommé \"données.csv, nous l'importons donc"
   ]
  },
  {
   "cell_type": "code",
   "execution_count": 3714,
   "metadata": {},
   "outputs": [],
   "source": [
    "h = pd.read_csv(\"données.csv\",sep=\";\")"
   ]
  },
  {
   "cell_type": "code",
   "execution_count": 3715,
   "metadata": {},
   "outputs": [
    {
     "data": {
      "text/html": [
       "<div>\n",
       "<style scoped>\n",
       "    .dataframe tbody tr th:only-of-type {\n",
       "        vertical-align: middle;\n",
       "    }\n",
       "\n",
       "    .dataframe tbody tr th {\n",
       "        vertical-align: top;\n",
       "    }\n",
       "\n",
       "    .dataframe thead th {\n",
       "        text-align: right;\n",
       "    }\n",
       "</style>\n",
       "<table border=\"1\" class=\"dataframe\">\n",
       "  <thead>\n",
       "    <tr style=\"text-align: right;\">\n",
       "      <th></th>\n",
       "      <th>Source.Name</th>\n",
       "      <th>id_mutation</th>\n",
       "      <th>date_mutation</th>\n",
       "      <th>numero_disposition</th>\n",
       "      <th>nature_mutation</th>\n",
       "      <th>valeur_fonciere</th>\n",
       "      <th>adresse_numero</th>\n",
       "      <th>adresse_suffixe</th>\n",
       "      <th>adresse_nom_voie</th>\n",
       "      <th>adresse_code_voie</th>\n",
       "      <th>...</th>\n",
       "      <th>surface_reelle_bati</th>\n",
       "      <th>nombre_pieces_principales</th>\n",
       "      <th>code_nature_culture</th>\n",
       "      <th>nature_culture</th>\n",
       "      <th>code_nature_culture_speciale</th>\n",
       "      <th>nature_culture_speciale</th>\n",
       "      <th>surface_terrain</th>\n",
       "      <th>longitude</th>\n",
       "      <th>latitude</th>\n",
       "      <th>section_prefixe</th>\n",
       "    </tr>\n",
       "  </thead>\n",
       "  <tbody>\n",
       "    <tr>\n",
       "      <th>0</th>\n",
       "      <td>76575_000AB.csv</td>\n",
       "      <td>2022-360375</td>\n",
       "      <td>21/04/2022</td>\n",
       "      <td>1</td>\n",
       "      <td>Vente</td>\n",
       "      <td>260000.0</td>\n",
       "      <td>26.0</td>\n",
       "      <td>None</td>\n",
       "      <td>RUE DELILLE</td>\n",
       "      <td>582.0</td>\n",
       "      <td>...</td>\n",
       "      <td>129.0</td>\n",
       "      <td>4.0</td>\n",
       "      <td>S</td>\n",
       "      <td>sols</td>\n",
       "      <td>None</td>\n",
       "      <td>None</td>\n",
       "      <td>351.0</td>\n",
       "      <td>1.071855</td>\n",
       "      <td>49.401886</td>\n",
       "      <td>000AB</td>\n",
       "    </tr>\n",
       "    <tr>\n",
       "      <th>1</th>\n",
       "      <td>76575_000AB.csv</td>\n",
       "      <td>2022-360375</td>\n",
       "      <td>21/04/2022</td>\n",
       "      <td>1</td>\n",
       "      <td>Vente</td>\n",
       "      <td>260000.0</td>\n",
       "      <td>26.0</td>\n",
       "      <td>None</td>\n",
       "      <td>RUE DELILLE</td>\n",
       "      <td>582.0</td>\n",
       "      <td>...</td>\n",
       "      <td>NaN</td>\n",
       "      <td>0.0</td>\n",
       "      <td>S</td>\n",
       "      <td>sols</td>\n",
       "      <td>None</td>\n",
       "      <td>None</td>\n",
       "      <td>351.0</td>\n",
       "      <td>1.071855</td>\n",
       "      <td>49.401886</td>\n",
       "      <td>000AB</td>\n",
       "    </tr>\n",
       "    <tr>\n",
       "      <th>2</th>\n",
       "      <td>76575_000AB.csv</td>\n",
       "      <td>2021-1180016</td>\n",
       "      <td>10/05/2021</td>\n",
       "      <td>1</td>\n",
       "      <td>Vente</td>\n",
       "      <td>160000.0</td>\n",
       "      <td>13.0</td>\n",
       "      <td>None</td>\n",
       "      <td>RUE ALFRED DE MUSSET</td>\n",
       "      <td>40.0</td>\n",
       "      <td>...</td>\n",
       "      <td>64.0</td>\n",
       "      <td>4.0</td>\n",
       "      <td>S</td>\n",
       "      <td>sols</td>\n",
       "      <td>None</td>\n",
       "      <td>None</td>\n",
       "      <td>452.0</td>\n",
       "      <td>1.070963</td>\n",
       "      <td>49.402764</td>\n",
       "      <td>000AB</td>\n",
       "    </tr>\n",
       "    <tr>\n",
       "      <th>3</th>\n",
       "      <td>76575_000AB.csv</td>\n",
       "      <td>2021-1177880</td>\n",
       "      <td>14/01/2021</td>\n",
       "      <td>1</td>\n",
       "      <td>Vente</td>\n",
       "      <td>174000.0</td>\n",
       "      <td>21.0</td>\n",
       "      <td>None</td>\n",
       "      <td>RUE PAUL VERLAINE</td>\n",
       "      <td>1920.0</td>\n",
       "      <td>...</td>\n",
       "      <td>64.0</td>\n",
       "      <td>4.0</td>\n",
       "      <td>S</td>\n",
       "      <td>sols</td>\n",
       "      <td>None</td>\n",
       "      <td>None</td>\n",
       "      <td>498.0</td>\n",
       "      <td>1.070475</td>\n",
       "      <td>49.403622</td>\n",
       "      <td>000AB</td>\n",
       "    </tr>\n",
       "    <tr>\n",
       "      <th>4</th>\n",
       "      <td>76575_000AB.csv</td>\n",
       "      <td>2021-1177880</td>\n",
       "      <td>14/01/2021</td>\n",
       "      <td>1</td>\n",
       "      <td>Vente</td>\n",
       "      <td>174000.0</td>\n",
       "      <td>21.0</td>\n",
       "      <td>None</td>\n",
       "      <td>RUE PAUL VERLAINE</td>\n",
       "      <td>1920.0</td>\n",
       "      <td>...</td>\n",
       "      <td>NaN</td>\n",
       "      <td>0.0</td>\n",
       "      <td>S</td>\n",
       "      <td>sols</td>\n",
       "      <td>None</td>\n",
       "      <td>None</td>\n",
       "      <td>498.0</td>\n",
       "      <td>1.070475</td>\n",
       "      <td>49.403622</td>\n",
       "      <td>000AB</td>\n",
       "    </tr>\n",
       "    <tr>\n",
       "      <th>...</th>\n",
       "      <td>...</td>\n",
       "      <td>...</td>\n",
       "      <td>...</td>\n",
       "      <td>...</td>\n",
       "      <td>...</td>\n",
       "      <td>...</td>\n",
       "      <td>...</td>\n",
       "      <td>...</td>\n",
       "      <td>...</td>\n",
       "      <td>...</td>\n",
       "      <td>...</td>\n",
       "      <td>...</td>\n",
       "      <td>...</td>\n",
       "      <td>...</td>\n",
       "      <td>...</td>\n",
       "      <td>...</td>\n",
       "      <td>...</td>\n",
       "      <td>...</td>\n",
       "      <td>...</td>\n",
       "      <td>...</td>\n",
       "      <td>...</td>\n",
       "    </tr>\n",
       "    <tr>\n",
       "      <th>2967</th>\n",
       "      <td>76575_000BW.csv</td>\n",
       "      <td>2019-1112209</td>\n",
       "      <td>11/02/2019</td>\n",
       "      <td>1</td>\n",
       "      <td>Vente</td>\n",
       "      <td>56460.0</td>\n",
       "      <td>620.0</td>\n",
       "      <td>None</td>\n",
       "      <td>RUE ISAAC NEWTON</td>\n",
       "      <td>1222.0</td>\n",
       "      <td>...</td>\n",
       "      <td>11002.0</td>\n",
       "      <td>0.0</td>\n",
       "      <td>S</td>\n",
       "      <td>sols</td>\n",
       "      <td>None</td>\n",
       "      <td>None</td>\n",
       "      <td>29103.0</td>\n",
       "      <td>NaN</td>\n",
       "      <td>NaN</td>\n",
       "      <td>000BW</td>\n",
       "    </tr>\n",
       "    <tr>\n",
       "      <th>2968</th>\n",
       "      <td>76575_000BW.csv</td>\n",
       "      <td>2018-1037104</td>\n",
       "      <td>28/12/2018</td>\n",
       "      <td>1</td>\n",
       "      <td>Vente</td>\n",
       "      <td>1000000.0</td>\n",
       "      <td>9010.0</td>\n",
       "      <td>None</td>\n",
       "      <td>CHE DE LA MARE AUX SANGSUES</td>\n",
       "      <td>1605.0</td>\n",
       "      <td>...</td>\n",
       "      <td>87.0</td>\n",
       "      <td>3.0</td>\n",
       "      <td>S</td>\n",
       "      <td>sols</td>\n",
       "      <td>None</td>\n",
       "      <td>None</td>\n",
       "      <td>3973.0</td>\n",
       "      <td>1.059789</td>\n",
       "      <td>49.390736</td>\n",
       "      <td>000BW</td>\n",
       "    </tr>\n",
       "    <tr>\n",
       "      <th>2969</th>\n",
       "      <td>76575_000BW.csv</td>\n",
       "      <td>2018-1037104</td>\n",
       "      <td>28/12/2018</td>\n",
       "      <td>1</td>\n",
       "      <td>Vente</td>\n",
       "      <td>1000000.0</td>\n",
       "      <td>9010.0</td>\n",
       "      <td>None</td>\n",
       "      <td>CHE DE LA MARE AUX SANGSUES</td>\n",
       "      <td>1605.0</td>\n",
       "      <td>...</td>\n",
       "      <td>1048.0</td>\n",
       "      <td>0.0</td>\n",
       "      <td>S</td>\n",
       "      <td>sols</td>\n",
       "      <td>None</td>\n",
       "      <td>None</td>\n",
       "      <td>3973.0</td>\n",
       "      <td>1.059789</td>\n",
       "      <td>49.390736</td>\n",
       "      <td>000BW</td>\n",
       "    </tr>\n",
       "    <tr>\n",
       "      <th>2970</th>\n",
       "      <td>76575_000BW.csv</td>\n",
       "      <td>2018-1033451</td>\n",
       "      <td>04/07/2018</td>\n",
       "      <td>1</td>\n",
       "      <td>Vente</td>\n",
       "      <td>165600.0</td>\n",
       "      <td>NaN</td>\n",
       "      <td>None</td>\n",
       "      <td>AV DE L UNIVERSITE</td>\n",
       "      <td>2359.0</td>\n",
       "      <td>...</td>\n",
       "      <td>NaN</td>\n",
       "      <td>NaN</td>\n",
       "      <td>S</td>\n",
       "      <td>sols</td>\n",
       "      <td>None</td>\n",
       "      <td>None</td>\n",
       "      <td>1465.0</td>\n",
       "      <td>1.076805</td>\n",
       "      <td>49.385296</td>\n",
       "      <td>000BW</td>\n",
       "    </tr>\n",
       "    <tr>\n",
       "      <th>2971</th>\n",
       "      <td>76575_000BW.csv</td>\n",
       "      <td>2018-1033549</td>\n",
       "      <td>28/06/2018</td>\n",
       "      <td>1</td>\n",
       "      <td>Vente</td>\n",
       "      <td>665000.0</td>\n",
       "      <td>165.0</td>\n",
       "      <td>None</td>\n",
       "      <td>RUE ETTORE BUGATTI</td>\n",
       "      <td>815.0</td>\n",
       "      <td>...</td>\n",
       "      <td>600.0</td>\n",
       "      <td>0.0</td>\n",
       "      <td>S</td>\n",
       "      <td>sols</td>\n",
       "      <td>None</td>\n",
       "      <td>None</td>\n",
       "      <td>2112.0</td>\n",
       "      <td>1.060781</td>\n",
       "      <td>49.386334</td>\n",
       "      <td>000BW</td>\n",
       "    </tr>\n",
       "  </tbody>\n",
       "</table>\n",
       "<p>2972 rows × 42 columns</p>\n",
       "</div>"
      ],
      "text/plain": [
       "          Source.Name   id_mutation date_mutation  numero_disposition  \\\n",
       "0     76575_000AB.csv   2022-360375    21/04/2022                   1   \n",
       "1     76575_000AB.csv   2022-360375    21/04/2022                   1   \n",
       "2     76575_000AB.csv  2021-1180016    10/05/2021                   1   \n",
       "3     76575_000AB.csv  2021-1177880    14/01/2021                   1   \n",
       "4     76575_000AB.csv  2021-1177880    14/01/2021                   1   \n",
       "...               ...           ...           ...                 ...   \n",
       "2967  76575_000BW.csv  2019-1112209    11/02/2019                   1   \n",
       "2968  76575_000BW.csv  2018-1037104    28/12/2018                   1   \n",
       "2969  76575_000BW.csv  2018-1037104    28/12/2018                   1   \n",
       "2970  76575_000BW.csv  2018-1033451    04/07/2018                   1   \n",
       "2971  76575_000BW.csv  2018-1033549    28/06/2018                   1   \n",
       "\n",
       "     nature_mutation  valeur_fonciere  adresse_numero adresse_suffixe  \\\n",
       "0              Vente         260000.0            26.0            None   \n",
       "1              Vente         260000.0            26.0            None   \n",
       "2              Vente         160000.0            13.0            None   \n",
       "3              Vente         174000.0            21.0            None   \n",
       "4              Vente         174000.0            21.0            None   \n",
       "...              ...              ...             ...             ...   \n",
       "2967           Vente          56460.0           620.0            None   \n",
       "2968           Vente        1000000.0          9010.0            None   \n",
       "2969           Vente        1000000.0          9010.0            None   \n",
       "2970           Vente         165600.0             NaN            None   \n",
       "2971           Vente         665000.0           165.0            None   \n",
       "\n",
       "                 adresse_nom_voie  adresse_code_voie  ...  \\\n",
       "0                     RUE DELILLE              582.0  ...   \n",
       "1                     RUE DELILLE              582.0  ...   \n",
       "2            RUE ALFRED DE MUSSET               40.0  ...   \n",
       "3               RUE PAUL VERLAINE             1920.0  ...   \n",
       "4               RUE PAUL VERLAINE             1920.0  ...   \n",
       "...                           ...                ...  ...   \n",
       "2967             RUE ISAAC NEWTON             1222.0  ...   \n",
       "2968  CHE DE LA MARE AUX SANGSUES             1605.0  ...   \n",
       "2969  CHE DE LA MARE AUX SANGSUES             1605.0  ...   \n",
       "2970           AV DE L UNIVERSITE             2359.0  ...   \n",
       "2971           RUE ETTORE BUGATTI              815.0  ...   \n",
       "\n",
       "      surface_reelle_bati  nombre_pieces_principales code_nature_culture  \\\n",
       "0                   129.0                        4.0                   S   \n",
       "1                     NaN                        0.0                   S   \n",
       "2                    64.0                        4.0                   S   \n",
       "3                    64.0                        4.0                   S   \n",
       "4                     NaN                        0.0                   S   \n",
       "...                   ...                        ...                 ...   \n",
       "2967              11002.0                        0.0                   S   \n",
       "2968                 87.0                        3.0                   S   \n",
       "2969               1048.0                        0.0                   S   \n",
       "2970                  NaN                        NaN                   S   \n",
       "2971                600.0                        0.0                   S   \n",
       "\n",
       "      nature_culture code_nature_culture_speciale nature_culture_speciale  \\\n",
       "0               sols                         None                    None   \n",
       "1               sols                         None                    None   \n",
       "2               sols                         None                    None   \n",
       "3               sols                         None                    None   \n",
       "4               sols                         None                    None   \n",
       "...              ...                          ...                     ...   \n",
       "2967            sols                         None                    None   \n",
       "2968            sols                         None                    None   \n",
       "2969            sols                         None                    None   \n",
       "2970            sols                         None                    None   \n",
       "2971            sols                         None                    None   \n",
       "\n",
       "     surface_terrain longitude   latitude section_prefixe  \n",
       "0              351.0  1.071855  49.401886           000AB  \n",
       "1              351.0  1.071855  49.401886           000AB  \n",
       "2              452.0  1.070963  49.402764           000AB  \n",
       "3              498.0  1.070475  49.403622           000AB  \n",
       "4              498.0  1.070475  49.403622           000AB  \n",
       "...              ...       ...        ...             ...  \n",
       "2967         29103.0       NaN        NaN           000BW  \n",
       "2968          3973.0  1.059789  49.390736           000BW  \n",
       "2969          3973.0  1.059789  49.390736           000BW  \n",
       "2970          1465.0  1.076805  49.385296           000BW  \n",
       "2971          2112.0  1.060781  49.386334           000BW  \n",
       "\n",
       "[2972 rows x 42 columns]"
      ]
     },
     "execution_count": 3715,
     "metadata": {},
     "output_type": "execute_result"
    }
   ],
   "source": [
    "h"
   ]
  },
  {
   "attachments": {},
   "cell_type": "markdown",
   "metadata": {},
   "source": [
    "Nous avons dans notre base de données 2971 exemples  avec pour eux 43 caractéristiques décrivant les aspects des biens.\n"
   ]
  },
  {
   "cell_type": "code",
   "execution_count": 3716,
   "metadata": {},
   "outputs": [
    {
     "data": {
      "text/html": [
       "<div>\n",
       "<style scoped>\n",
       "    .dataframe tbody tr th:only-of-type {\n",
       "        vertical-align: middle;\n",
       "    }\n",
       "\n",
       "    .dataframe tbody tr th {\n",
       "        vertical-align: top;\n",
       "    }\n",
       "\n",
       "    .dataframe thead th {\n",
       "        text-align: right;\n",
       "    }\n",
       "</style>\n",
       "<table border=\"1\" class=\"dataframe\">\n",
       "  <thead>\n",
       "    <tr style=\"text-align: right;\">\n",
       "      <th></th>\n",
       "      <th>numero_disposition</th>\n",
       "      <th>valeur_fonciere</th>\n",
       "      <th>adresse_numero</th>\n",
       "      <th>adresse_code_voie</th>\n",
       "      <th>code_postal</th>\n",
       "      <th>code_commune</th>\n",
       "      <th>code_departement</th>\n",
       "      <th>nombre_lots</th>\n",
       "      <th>surface_reelle_bati</th>\n",
       "      <th>nombre_pieces_principales</th>\n",
       "      <th>surface_terrain</th>\n",
       "      <th>longitude</th>\n",
       "      <th>latitude</th>\n",
       "    </tr>\n",
       "  </thead>\n",
       "  <tbody>\n",
       "    <tr>\n",
       "      <th>count</th>\n",
       "      <td>2972.000000</td>\n",
       "      <td>2.922000e+03</td>\n",
       "      <td>2487.000000</td>\n",
       "      <td>2645.000000</td>\n",
       "      <td>2957.0</td>\n",
       "      <td>2972.0</td>\n",
       "      <td>2972.0</td>\n",
       "      <td>2972.000000</td>\n",
       "      <td>1613.000000</td>\n",
       "      <td>2197.000000</td>\n",
       "      <td>2515.000000</td>\n",
       "      <td>2945.000000</td>\n",
       "      <td>2945.000000</td>\n",
       "    </tr>\n",
       "    <tr>\n",
       "      <th>mean</th>\n",
       "      <td>1.067968</td>\n",
       "      <td>2.952035e+05</td>\n",
       "      <td>986.122236</td>\n",
       "      <td>1352.046881</td>\n",
       "      <td>76800.0</td>\n",
       "      <td>76575.0</td>\n",
       "      <td>76.0</td>\n",
       "      <td>0.233176</td>\n",
       "      <td>182.208308</td>\n",
       "      <td>2.623578</td>\n",
       "      <td>998.296620</td>\n",
       "      <td>1.091068</td>\n",
       "      <td>49.387863</td>\n",
       "    </tr>\n",
       "    <tr>\n",
       "      <th>std</th>\n",
       "      <td>0.302725</td>\n",
       "      <td>1.440939e+06</td>\n",
       "      <td>2741.944781</td>\n",
       "      <td>631.804460</td>\n",
       "      <td>0.0</td>\n",
       "      <td>0.0</td>\n",
       "      <td>0.0</td>\n",
       "      <td>0.670935</td>\n",
       "      <td>921.206607</td>\n",
       "      <td>2.141372</td>\n",
       "      <td>3315.373056</td>\n",
       "      <td>0.015597</td>\n",
       "      <td>0.009367</td>\n",
       "    </tr>\n",
       "    <tr>\n",
       "      <th>min</th>\n",
       "      <td>1.000000</td>\n",
       "      <td>1.500000e-01</td>\n",
       "      <td>1.000000</td>\n",
       "      <td>10.000000</td>\n",
       "      <td>76800.0</td>\n",
       "      <td>76575.0</td>\n",
       "      <td>76.0</td>\n",
       "      <td>0.000000</td>\n",
       "      <td>8.000000</td>\n",
       "      <td>0.000000</td>\n",
       "      <td>1.000000</td>\n",
       "      <td>1.059257</td>\n",
       "      <td>49.364717</td>\n",
       "    </tr>\n",
       "    <tr>\n",
       "      <th>25%</th>\n",
       "      <td>1.000000</td>\n",
       "      <td>8.600000e+04</td>\n",
       "      <td>7.000000</td>\n",
       "      <td>940.000000</td>\n",
       "      <td>76800.0</td>\n",
       "      <td>76575.0</td>\n",
       "      <td>76.0</td>\n",
       "      <td>0.000000</td>\n",
       "      <td>63.000000</td>\n",
       "      <td>0.000000</td>\n",
       "      <td>179.000000</td>\n",
       "      <td>1.076010</td>\n",
       "      <td>49.379939</td>\n",
       "    </tr>\n",
       "    <tr>\n",
       "      <th>50%</th>\n",
       "      <td>1.000000</td>\n",
       "      <td>1.455000e+05</td>\n",
       "      <td>21.000000</td>\n",
       "      <td>1420.000000</td>\n",
       "      <td>76800.0</td>\n",
       "      <td>76575.0</td>\n",
       "      <td>76.0</td>\n",
       "      <td>0.000000</td>\n",
       "      <td>79.000000</td>\n",
       "      <td>3.000000</td>\n",
       "      <td>371.000000</td>\n",
       "      <td>1.093953</td>\n",
       "      <td>49.389846</td>\n",
       "    </tr>\n",
       "    <tr>\n",
       "      <th>75%</th>\n",
       "      <td>1.000000</td>\n",
       "      <td>2.150000e+05</td>\n",
       "      <td>70.000000</td>\n",
       "      <td>1870.000000</td>\n",
       "      <td>76800.0</td>\n",
       "      <td>76575.0</td>\n",
       "      <td>76.0</td>\n",
       "      <td>0.000000</td>\n",
       "      <td>97.000000</td>\n",
       "      <td>4.000000</td>\n",
       "      <td>535.000000</td>\n",
       "      <td>1.105408</td>\n",
       "      <td>49.395582</td>\n",
       "    </tr>\n",
       "    <tr>\n",
       "      <th>max</th>\n",
       "      <td>5.000000</td>\n",
       "      <td>3.685578e+07</td>\n",
       "      <td>9789.000000</td>\n",
       "      <td>2450.000000</td>\n",
       "      <td>76800.0</td>\n",
       "      <td>76575.0</td>\n",
       "      <td>76.0</td>\n",
       "      <td>10.000000</td>\n",
       "      <td>16673.000000</td>\n",
       "      <td>22.000000</td>\n",
       "      <td>65177.000000</td>\n",
       "      <td>1.117740</td>\n",
       "      <td>49.405776</td>\n",
       "    </tr>\n",
       "  </tbody>\n",
       "</table>\n",
       "</div>"
      ],
      "text/plain": [
       "       numero_disposition  valeur_fonciere  adresse_numero  adresse_code_voie  \\\n",
       "count         2972.000000     2.922000e+03     2487.000000        2645.000000   \n",
       "mean             1.067968     2.952035e+05      986.122236        1352.046881   \n",
       "std              0.302725     1.440939e+06     2741.944781         631.804460   \n",
       "min              1.000000     1.500000e-01        1.000000          10.000000   \n",
       "25%              1.000000     8.600000e+04        7.000000         940.000000   \n",
       "50%              1.000000     1.455000e+05       21.000000        1420.000000   \n",
       "75%              1.000000     2.150000e+05       70.000000        1870.000000   \n",
       "max              5.000000     3.685578e+07     9789.000000        2450.000000   \n",
       "\n",
       "       code_postal  code_commune  code_departement  nombre_lots  \\\n",
       "count       2957.0        2972.0            2972.0  2972.000000   \n",
       "mean       76800.0       76575.0              76.0     0.233176   \n",
       "std            0.0           0.0               0.0     0.670935   \n",
       "min        76800.0       76575.0              76.0     0.000000   \n",
       "25%        76800.0       76575.0              76.0     0.000000   \n",
       "50%        76800.0       76575.0              76.0     0.000000   \n",
       "75%        76800.0       76575.0              76.0     0.000000   \n",
       "max        76800.0       76575.0              76.0    10.000000   \n",
       "\n",
       "       surface_reelle_bati  nombre_pieces_principales  surface_terrain  \\\n",
       "count          1613.000000                2197.000000      2515.000000   \n",
       "mean            182.208308                   2.623578       998.296620   \n",
       "std             921.206607                   2.141372      3315.373056   \n",
       "min               8.000000                   0.000000         1.000000   \n",
       "25%              63.000000                   0.000000       179.000000   \n",
       "50%              79.000000                   3.000000       371.000000   \n",
       "75%              97.000000                   4.000000       535.000000   \n",
       "max           16673.000000                  22.000000     65177.000000   \n",
       "\n",
       "         longitude     latitude  \n",
       "count  2945.000000  2945.000000  \n",
       "mean      1.091068    49.387863  \n",
       "std       0.015597     0.009367  \n",
       "min       1.059257    49.364717  \n",
       "25%       1.076010    49.379939  \n",
       "50%       1.093953    49.389846  \n",
       "75%       1.105408    49.395582  \n",
       "max       1.117740    49.405776  "
      ]
     },
     "execution_count": 3716,
     "metadata": {},
     "output_type": "execute_result"
    }
   ],
   "source": [
    "h.describe()"
   ]
  },
  {
   "attachments": {},
   "cell_type": "markdown",
   "metadata": {},
   "source": [
    "## 2-Nettoyage Des données\n"
   ]
  },
  {
   "attachments": {},
   "cell_type": "markdown",
   "metadata": {},
   "source": [
    "Dans cette section nous allons nettoyer nos données, on constate a l'oeil nu la présence de beaucoup de \"nan\" et \"none\"."
   ]
  },
  {
   "cell_type": "code",
   "execution_count": 3717,
   "metadata": {},
   "outputs": [],
   "source": [
    "h=h.replace(['None','nan'],float('NaN'))"
   ]
  },
  {
   "attachments": {},
   "cell_type": "markdown",
   "metadata": {},
   "source": [
    "Par soucis de facilité ,nous avons remplacé les \"None\" et \"nan\" par \"Nan\""
   ]
  },
  {
   "attachments": {},
   "cell_type": "markdown",
   "metadata": {},
   "source": [
    "Pour determiner si une colonne de la Data contient une donnée manquante (NAN ou None) on utilise isnull et any"
   ]
  },
  {
   "cell_type": "code",
   "execution_count": 3718,
   "metadata": {},
   "outputs": [
    {
     "data": {
      "text/plain": [
       "Source.Name                     False\n",
       "id_mutation                     False\n",
       "date_mutation                   False\n",
       "numero_disposition              False\n",
       "nature_mutation                 False\n",
       "valeur_fonciere                  True\n",
       "adresse_numero                   True\n",
       "adresse_suffixe                  True\n",
       "adresse_nom_voie                 True\n",
       "adresse_code_voie                True\n",
       "code_postal                      True\n",
       "code_commune                    False\n",
       "nom_commune                     False\n",
       "code_departement                False\n",
       "ancien_code_commune              True\n",
       "ancien_nom_commune               True\n",
       "id_parcelle                     False\n",
       "ancien_id_parcelle               True\n",
       "numero_volume                    True\n",
       "lot1_numero                      True\n",
       "lot1_surface_carrez              True\n",
       "lot2_numero                      True\n",
       "lot2_surface_carrez              True\n",
       "lot3_numero                      True\n",
       "lot3_surface_carrez              True\n",
       "lot4_numero                      True\n",
       "lot4_surface_carrez              True\n",
       "lot5_numero                      True\n",
       "lot5_surface_carrez              True\n",
       "nombre_lots                     False\n",
       "code_type_local                  True\n",
       "type_local                       True\n",
       "surface_reelle_bati              True\n",
       "nombre_pieces_principales        True\n",
       "code_nature_culture              True\n",
       "nature_culture                   True\n",
       "code_nature_culture_speciale     True\n",
       "nature_culture_speciale          True\n",
       "surface_terrain                  True\n",
       "longitude                        True\n",
       "latitude                         True\n",
       "section_prefixe                 False\n",
       "dtype: bool"
      ]
     },
     "execution_count": 3718,
     "metadata": {},
     "output_type": "execute_result"
    }
   ],
   "source": [
    "h.isnull().any()"
   ]
  },
  {
   "cell_type": "code",
   "execution_count": 3719,
   "metadata": {},
   "outputs": [
    {
     "data": {
      "text/plain": [
       "valeur_fonciere                50\n",
       "surface_reelle_bati          1359\n",
       "nombre_pieces_principales     775\n",
       "surface_terrain               457\n",
       "longitude                      27\n",
       "latitude                       27\n",
       "code_type_local               773\n",
       "dtype: int64"
      ]
     },
     "execution_count": 3719,
     "metadata": {},
     "output_type": "execute_result"
    }
   ],
   "source": [
    "h=h[['valeur_fonciere','surface_reelle_bati','nombre_pieces_principales','surface_terrain','longitude','latitude','code_type_local']]\n",
    "\n",
    "h.isnull().sum()"
   ]
  },
  {
   "attachments": {},
   "cell_type": "markdown",
   "metadata": {},
   "source": [
    "On choisit les caractéristiques que l'on veut utiliser dans notre modèle : ['valeur_fonciere','surface_reelle_bati','nombre_pieces_principales','surface_terrain','longitude','latitude','code_type_local']\n",
    "Ensuite on se sert de sum() pour connaitre le nombre de données manquantes par caractéristique"
   ]
  },
  {
   "cell_type": "code",
   "execution_count": 3721,
   "metadata": {},
   "outputs": [
    {
     "data": {
      "text/plain": [
       "valeur_fonciere                50\n",
       "surface_reelle_bati          1359\n",
       "nombre_pieces_principales     775\n",
       "surface_terrain               457\n",
       "longitude                      27\n",
       "latitude                       27\n",
       "code_type_local               773\n",
       "dtype: int64"
      ]
     },
     "execution_count": 3721,
     "metadata": {},
     "output_type": "execute_result"
    }
   ],
   "source": [
    "h.isnull().sum()"
   ]
  },
  {
   "cell_type": "code",
   "execution_count": 3722,
   "metadata": {},
   "outputs": [
    {
     "data": {
      "text/plain": [
       "3468"
      ]
     },
     "execution_count": 3722,
     "metadata": {},
     "output_type": "execute_result"
    }
   ],
   "source": [
    "h.isnull().sum().sum()"
   ]
  },
  {
   "attachments": {},
   "cell_type": "markdown",
   "metadata": {},
   "source": [
    "On constate que l'on a un total de 3468 données manquantes"
   ]
  },
  {
   "attachments": {},
   "cell_type": "markdown",
   "metadata": {},
   "source": [
    " On supprime les colonnes de la data avec plus de 50% de données manquantes en utilisant la fonction pandas drop():"
   ]
  },
  {
   "cell_type": "code",
   "execution_count": 3723,
   "metadata": {},
   "outputs": [
    {
     "name": "stdout",
     "output_type": "stream",
     "text": [
      "valeur_fonciere 50\n",
      "surface_reelle_bati 1359\n",
      "nombre_pieces_principales 775\n",
      "surface_terrain 457\n",
      "longitude 27\n",
      "latitude 27\n",
      "code_type_local 773\n"
     ]
    }
   ],
   "source": [
    "column_with_nan = h.columns[h.isnull().any()]\n",
    "for column in column_with_nan:\n",
    "  print(column, h[column].isnull().sum())\n",
    "\n",
    "if h[column].isnull().sum()*100.0/h.shape[0] > 50:\n",
    "  h.drop(column,1, inplace=True)\n"
   ]
  },
  {
   "attachments": {},
   "cell_type": "markdown",
   "metadata": {},
   "source": [
    "On fait la même chose avec les lignes"
   ]
  },
  {
   "cell_type": "code",
   "execution_count": 3724,
   "metadata": {},
   "outputs": [
    {
     "name": "stderr",
     "output_type": "stream",
     "text": [
      "C:\\Users\\Ordi\\AppData\\Local\\Temp\\ipykernel_26100\\3329569822.py:4: FutureWarning: In a future version of pandas all arguments of DataFrame.drop except for the argument 'labels' will be keyword-only.\n",
      "  h.drop(index_with_nan,0, inplace=True)\n"
     ]
    },
    {
     "data": {
      "text/html": [
       "<div>\n",
       "<style scoped>\n",
       "    .dataframe tbody tr th:only-of-type {\n",
       "        vertical-align: middle;\n",
       "    }\n",
       "\n",
       "    .dataframe tbody tr th {\n",
       "        vertical-align: top;\n",
       "    }\n",
       "\n",
       "    .dataframe thead th {\n",
       "        text-align: right;\n",
       "    }\n",
       "</style>\n",
       "<table border=\"1\" class=\"dataframe\">\n",
       "  <thead>\n",
       "    <tr style=\"text-align: right;\">\n",
       "      <th></th>\n",
       "      <th>valeur_fonciere</th>\n",
       "      <th>surface_reelle_bati</th>\n",
       "      <th>nombre_pieces_principales</th>\n",
       "      <th>surface_terrain</th>\n",
       "      <th>longitude</th>\n",
       "      <th>latitude</th>\n",
       "      <th>code_type_local</th>\n",
       "    </tr>\n",
       "  </thead>\n",
       "  <tbody>\n",
       "    <tr>\n",
       "      <th>0</th>\n",
       "      <td>260000.0</td>\n",
       "      <td>129.0</td>\n",
       "      <td>4.0</td>\n",
       "      <td>351.0</td>\n",
       "      <td>1.071855</td>\n",
       "      <td>49.401886</td>\n",
       "      <td>1</td>\n",
       "    </tr>\n",
       "    <tr>\n",
       "      <th>2</th>\n",
       "      <td>160000.0</td>\n",
       "      <td>64.0</td>\n",
       "      <td>4.0</td>\n",
       "      <td>452.0</td>\n",
       "      <td>1.070963</td>\n",
       "      <td>49.402764</td>\n",
       "      <td>1</td>\n",
       "    </tr>\n",
       "    <tr>\n",
       "      <th>3</th>\n",
       "      <td>174000.0</td>\n",
       "      <td>64.0</td>\n",
       "      <td>4.0</td>\n",
       "      <td>498.0</td>\n",
       "      <td>1.070475</td>\n",
       "      <td>49.403622</td>\n",
       "      <td>1</td>\n",
       "    </tr>\n",
       "    <tr>\n",
       "      <th>5</th>\n",
       "      <td>200000.0</td>\n",
       "      <td>18.0</td>\n",
       "      <td>1.0</td>\n",
       "      <td>105.0</td>\n",
       "      <td>1.074902</td>\n",
       "      <td>49.403036</td>\n",
       "      <td>2</td>\n",
       "    </tr>\n",
       "    <tr>\n",
       "      <th>6</th>\n",
       "      <td>200000.0</td>\n",
       "      <td>68.0</td>\n",
       "      <td>0.0</td>\n",
       "      <td>105.0</td>\n",
       "      <td>1.074902</td>\n",
       "      <td>49.403036</td>\n",
       "      <td>4</td>\n",
       "    </tr>\n",
       "    <tr>\n",
       "      <th>...</th>\n",
       "      <td>...</td>\n",
       "      <td>...</td>\n",
       "      <td>...</td>\n",
       "      <td>...</td>\n",
       "      <td>...</td>\n",
       "      <td>...</td>\n",
       "      <td>...</td>\n",
       "    </tr>\n",
       "    <tr>\n",
       "      <th>2951</th>\n",
       "      <td>189300.0</td>\n",
       "      <td>80.0</td>\n",
       "      <td>4.0</td>\n",
       "      <td>354.0</td>\n",
       "      <td>1.071759</td>\n",
       "      <td>49.399769</td>\n",
       "      <td>1</td>\n",
       "    </tr>\n",
       "    <tr>\n",
       "      <th>2964</th>\n",
       "      <td>1.2</td>\n",
       "      <td>3544.0</td>\n",
       "      <td>0.0</td>\n",
       "      <td>17330.0</td>\n",
       "      <td>1.077618</td>\n",
       "      <td>49.385026</td>\n",
       "      <td>4</td>\n",
       "    </tr>\n",
       "    <tr>\n",
       "      <th>2968</th>\n",
       "      <td>1000000.0</td>\n",
       "      <td>87.0</td>\n",
       "      <td>3.0</td>\n",
       "      <td>3973.0</td>\n",
       "      <td>1.059789</td>\n",
       "      <td>49.390736</td>\n",
       "      <td>2</td>\n",
       "    </tr>\n",
       "    <tr>\n",
       "      <th>2969</th>\n",
       "      <td>1000000.0</td>\n",
       "      <td>1048.0</td>\n",
       "      <td>0.0</td>\n",
       "      <td>3973.0</td>\n",
       "      <td>1.059789</td>\n",
       "      <td>49.390736</td>\n",
       "      <td>4</td>\n",
       "    </tr>\n",
       "    <tr>\n",
       "      <th>2971</th>\n",
       "      <td>665000.0</td>\n",
       "      <td>600.0</td>\n",
       "      <td>0.0</td>\n",
       "      <td>2112.0</td>\n",
       "      <td>1.060781</td>\n",
       "      <td>49.386334</td>\n",
       "      <td>4</td>\n",
       "    </tr>\n",
       "  </tbody>\n",
       "</table>\n",
       "<p>1325 rows × 7 columns</p>\n",
       "</div>"
      ],
      "text/plain": [
       "      valeur_fonciere  surface_reelle_bati  nombre_pieces_principales  \\\n",
       "0            260000.0                129.0                        4.0   \n",
       "2            160000.0                 64.0                        4.0   \n",
       "3            174000.0                 64.0                        4.0   \n",
       "5            200000.0                 18.0                        1.0   \n",
       "6            200000.0                 68.0                        0.0   \n",
       "...               ...                  ...                        ...   \n",
       "2951         189300.0                 80.0                        4.0   \n",
       "2964              1.2               3544.0                        0.0   \n",
       "2968        1000000.0                 87.0                        3.0   \n",
       "2969        1000000.0               1048.0                        0.0   \n",
       "2971         665000.0                600.0                        0.0   \n",
       "\n",
       "      surface_terrain  longitude   latitude code_type_local  \n",
       "0               351.0   1.071855  49.401886               1  \n",
       "2               452.0   1.070963  49.402764               1  \n",
       "3               498.0   1.070475  49.403622               1  \n",
       "5               105.0   1.074902  49.403036               2  \n",
       "6               105.0   1.074902  49.403036               4  \n",
       "...               ...        ...        ...             ...  \n",
       "2951            354.0   1.071759  49.399769               1  \n",
       "2964          17330.0   1.077618  49.385026               4  \n",
       "2968           3973.0   1.059789  49.390736               2  \n",
       "2969           3973.0   1.059789  49.390736               4  \n",
       "2971           2112.0   1.060781  49.386334               4  \n",
       "\n",
       "[1325 rows x 7 columns]"
      ]
     },
     "execution_count": 3724,
     "metadata": {},
     "output_type": "execute_result"
    }
   ],
   "source": [
    "h.index[h.isnull().any(axis=1)]\n",
    "index_with_nan = h.index[h.isnull().any(axis=1)]\n",
    "index_with_nan.shape\n",
    "h.drop(index_with_nan,0, inplace=True)\n",
    "h.shape\n",
    "h"
   ]
  },
  {
   "attachments": {},
   "cell_type": "markdown",
   "metadata": {},
   "source": [
    "Après un premier Traitement des données on constate qu'on est descendu à 1325 exemple, ce qui fait peu sachant que notre nombre d'exemple initial est lui aussi petit"
   ]
  },
  {
   "cell_type": "code",
   "execution_count": 3725,
   "metadata": {},
   "outputs": [],
   "source": [
    "# On réinitialise les indices après le traitement car plusieurs valeurs on été retirées\n",
    "h=h.reset_index(drop=True)\n"
   ]
  },
  {
   "attachments": {},
   "cell_type": "markdown",
   "metadata": {},
   "source": [
    "## 3-Analyse exploratoire des données (EDA)"
   ]
  },
  {
   "attachments": {},
   "cell_type": "markdown",
   "metadata": {},
   "source": [
    "### Suppression des Valeurs aberrantes\n",
    "### Visualisation\n",
    "### Utilisation de la boîte à moustache\n",
    "\n",
    "il capture le résumé des données de manière efficace et efficiente avec seulement une simple boîte et des moustaches. Boxplot résume les exemples de données à l’aide des 25e, 50e et 75e centiles. On peut simplement obtenir des informations (quartiles, médianes et valeurs aberrantes) sur l’ensemble de données en regardant simplement sa boîte à moustaches."
   ]
  },
  {
   "cell_type": "code",
   "execution_count": 3745,
   "metadata": {},
   "outputs": [
    {
     "name": "stdout",
     "output_type": "stream",
     "text": [
      "(array([], dtype=int64),)\n",
      "(array([], dtype=int64),)\n"
     ]
    },
    {
     "data": {
      "image/png": "[encoded data removed]",
      "text/plain": [
       "<Figure size 640x480 with 1 Axes>"
      ]
     },
     "metadata": {},
     "output_type": "display_data"
    }
   ],
   "source": [
    "# Box Plot\n",
    "sns.boxplot(h['valeur_fonciere'])\n",
    "# Position of the Outlier\n",
    "print(np.where(h['valeur_fonciere']>1000000))\n",
    "print(np.where(h['valeur_fonciere']< 1000))\n",
    "Bye=np.where(h['valeur_fonciere']>1000000)\n",
    "Bye1=np.where(h['valeur_fonciere']< 1000)\n",
    "h.drop(Bye[0], inplace = True)\n",
    "h.drop(Bye1[0], inplace = True)"
   ]
  },
  {
   "attachments": {},
   "cell_type": "markdown",
   "metadata": {},
   "source": [
    "On remarque grace a la boite a moustache que les biens de plus de 1 000 000 sont des valeurs aberrantes ainsi que ceux inférieur à 1000 \n",
    "### Nous avons supprimé quelques valeurs aberrantes, il est normal d’avoir des maisons plus chères dans notre quartier ou bien il est normal qu’un immeuble coûte plus chère qu’une maison mais cela provoque des erreurs dans le modèle d’apprentissage\n"
   ]
  },
  {
   "cell_type": "code",
   "execution_count": 3727,
   "metadata": {},
   "outputs": [],
   "source": [
    "h['code_type_local']=pd.to_numeric(h['code_type_local'],downcast=\"float\")\n",
    "h=h.drop(h[h['code_type_local'] == 3 ].index)\n",
    "h=h.drop(h[h['code_type_local'] == 4 ].index)\n",
    "\n",
    "\n"
   ]
  },
  {
   "attachments": {},
   "cell_type": "markdown",
   "metadata": {},
   "source": [
    "Etant donné que le but est d'estimer le prix d'une maison ou d'un appartement, on supprimer les données représentant une dépendance ou un local commercial"
   ]
  },
  {
   "attachments": {},
   "cell_type": "markdown",
   "metadata": {},
   "source": [
    "j'ai tracé le prix de vente sur un histogramme. on peut constater la présence de valeurs aberrantes sur notre graphique ,La répartition des valeurs foncières n'est pas correcte, comme on s'en doutais plus haut."
   ]
  },
  {
   "cell_type": "code",
   "execution_count": 3750,
   "metadata": {},
   "outputs": [
    {
     "name": "stderr",
     "output_type": "stream",
     "text": [
      "C:\\Users\\Ordi\\AppData\\Local\\Temp\\ipykernel_26100\\1425935010.py:2: UserWarning: \n",
      "\n",
      "`distplot` is a deprecated function and will be removed in seaborn v0.14.0.\n",
      "\n",
      "Please adapt your code to use either `displot` (a figure-level function with\n",
      "similar flexibility) or `histplot` (an axes-level function for histograms).\n",
      "\n",
      "For a guide to updating your code to use the new functions, please see\n",
      "https://gist.github.com/mwaskom/de44147ed2974457ad6372750bbe5751\n",
      "\n",
      "  sns.distplot(h['valeur_fonciere'])\n"
     ]
    },
    {
     "data": {
      "image/png": "[encoded data removed]",
      "text/plain": [
       "<Figure size 640x480 with 1 Axes>"
      ]
     },
     "metadata": {},
     "output_type": "display_data"
    }
   ],
   "source": [
    "sns.set_style('darkgrid')\n",
    "sns.distplot(h['valeur_fonciere'])\n",
    "plt.show()"
   ]
  },
  {
   "cell_type": "code",
   "execution_count": 3728,
   "metadata": {},
   "outputs": [
    {
     "data": {
      "text/plain": [
       "<AxesSubplot: >"
      ]
     },
     "execution_count": 3728,
     "metadata": {},
     "output_type": "execute_result"
    },
    {
     "data": {
      "image/png": "[encoded data removed]",
      "text/plain": [
       "<Figure size 400x400 with 2 Axes>"
      ]
     },
     "metadata": {},
     "output_type": "display_data"
    }
   ],
   "source": [
    "plt.figure(figsize=(4,4))\n",
    "sns.heatmap(h.corr())\n"
   ]
  },
  {
   "attachments": {},
   "cell_type": "markdown",
   "metadata": {},
   "source": [
    "La mesure de corrélation utilisée ici est la corrélation de Pearson. Dans notre cas, plus le carré est clair, plus la corrélation entre deux variables est forte.\n",
    "\n",
    "Les caractéristiques liées à l'espace telles que la surface réelle, la surface terrain, le nombre de pieces sont toutes positivement corrélées avec la valuer_fonciere, comme on pouvait s'y attendre. La logique étant que de plus grandes propriétés devraient être plus chères. Aucune corrélation ne semble suspecte ici"
   ]
  },
  {
   "cell_type": "code",
   "execution_count": 3730,
   "metadata": {},
   "outputs": [
    {
     "data": {
      "text/html": [
       "<div>\n",
       "<style scoped>\n",
       "    .dataframe tbody tr th:only-of-type {\n",
       "        vertical-align: middle;\n",
       "    }\n",
       "\n",
       "    .dataframe tbody tr th {\n",
       "        vertical-align: top;\n",
       "    }\n",
       "\n",
       "    .dataframe thead th {\n",
       "        text-align: right;\n",
       "    }\n",
       "</style>\n",
       "<table border=\"1\" class=\"dataframe\">\n",
       "  <thead>\n",
       "    <tr style=\"text-align: right;\">\n",
       "      <th></th>\n",
       "      <th>valeur_fonciere</th>\n",
       "      <th>surface_reelle_bati</th>\n",
       "      <th>nombre_pieces_principales</th>\n",
       "      <th>surface_terrain</th>\n",
       "      <th>longitude</th>\n",
       "      <th>latitude</th>\n",
       "      <th>code_type_local</th>\n",
       "    </tr>\n",
       "  </thead>\n",
       "  <tbody>\n",
       "    <tr>\n",
       "      <th>0</th>\n",
       "      <td>260000.0</td>\n",
       "      <td>129.0</td>\n",
       "      <td>4.0</td>\n",
       "      <td>351.0</td>\n",
       "      <td>1.071855</td>\n",
       "      <td>49.401886</td>\n",
       "      <td>1.0</td>\n",
       "    </tr>\n",
       "    <tr>\n",
       "      <th>1</th>\n",
       "      <td>160000.0</td>\n",
       "      <td>64.0</td>\n",
       "      <td>4.0</td>\n",
       "      <td>452.0</td>\n",
       "      <td>1.070963</td>\n",
       "      <td>49.402764</td>\n",
       "      <td>1.0</td>\n",
       "    </tr>\n",
       "    <tr>\n",
       "      <th>2</th>\n",
       "      <td>174000.0</td>\n",
       "      <td>64.0</td>\n",
       "      <td>4.0</td>\n",
       "      <td>498.0</td>\n",
       "      <td>1.070475</td>\n",
       "      <td>49.403622</td>\n",
       "      <td>1.0</td>\n",
       "    </tr>\n",
       "    <tr>\n",
       "      <th>3</th>\n",
       "      <td>200000.0</td>\n",
       "      <td>18.0</td>\n",
       "      <td>1.0</td>\n",
       "      <td>105.0</td>\n",
       "      <td>1.074902</td>\n",
       "      <td>49.403036</td>\n",
       "      <td>2.0</td>\n",
       "    </tr>\n",
       "    <tr>\n",
       "      <th>5</th>\n",
       "      <td>180000.0</td>\n",
       "      <td>108.0</td>\n",
       "      <td>5.0</td>\n",
       "      <td>348.0</td>\n",
       "      <td>1.071647</td>\n",
       "      <td>49.401956</td>\n",
       "      <td>1.0</td>\n",
       "    </tr>\n",
       "    <tr>\n",
       "      <th>...</th>\n",
       "      <td>...</td>\n",
       "      <td>...</td>\n",
       "      <td>...</td>\n",
       "      <td>...</td>\n",
       "      <td>...</td>\n",
       "      <td>...</td>\n",
       "      <td>...</td>\n",
       "    </tr>\n",
       "    <tr>\n",
       "      <th>1317</th>\n",
       "      <td>145000.0</td>\n",
       "      <td>74.0</td>\n",
       "      <td>5.0</td>\n",
       "      <td>374.0</td>\n",
       "      <td>1.072432</td>\n",
       "      <td>49.400659</td>\n",
       "      <td>1.0</td>\n",
       "    </tr>\n",
       "    <tr>\n",
       "      <th>1318</th>\n",
       "      <td>262500.0</td>\n",
       "      <td>102.0</td>\n",
       "      <td>5.0</td>\n",
       "      <td>434.0</td>\n",
       "      <td>1.069653</td>\n",
       "      <td>49.399310</td>\n",
       "      <td>1.0</td>\n",
       "    </tr>\n",
       "    <tr>\n",
       "      <th>1319</th>\n",
       "      <td>130000.0</td>\n",
       "      <td>64.0</td>\n",
       "      <td>4.0</td>\n",
       "      <td>369.0</td>\n",
       "      <td>1.072534</td>\n",
       "      <td>49.400600</td>\n",
       "      <td>1.0</td>\n",
       "    </tr>\n",
       "    <tr>\n",
       "      <th>1320</th>\n",
       "      <td>189300.0</td>\n",
       "      <td>80.0</td>\n",
       "      <td>4.0</td>\n",
       "      <td>354.0</td>\n",
       "      <td>1.071759</td>\n",
       "      <td>49.399769</td>\n",
       "      <td>1.0</td>\n",
       "    </tr>\n",
       "    <tr>\n",
       "      <th>1322</th>\n",
       "      <td>1000000.0</td>\n",
       "      <td>87.0</td>\n",
       "      <td>3.0</td>\n",
       "      <td>3973.0</td>\n",
       "      <td>1.059789</td>\n",
       "      <td>49.390736</td>\n",
       "      <td>2.0</td>\n",
       "    </tr>\n",
       "  </tbody>\n",
       "</table>\n",
       "<p>1201 rows × 7 columns</p>\n",
       "</div>"
      ],
      "text/plain": [
       "      valeur_fonciere  surface_reelle_bati  nombre_pieces_principales  \\\n",
       "0            260000.0                129.0                        4.0   \n",
       "1            160000.0                 64.0                        4.0   \n",
       "2            174000.0                 64.0                        4.0   \n",
       "3            200000.0                 18.0                        1.0   \n",
       "5            180000.0                108.0                        5.0   \n",
       "...               ...                  ...                        ...   \n",
       "1317         145000.0                 74.0                        5.0   \n",
       "1318         262500.0                102.0                        5.0   \n",
       "1319         130000.0                 64.0                        4.0   \n",
       "1320         189300.0                 80.0                        4.0   \n",
       "1322        1000000.0                 87.0                        3.0   \n",
       "\n",
       "      surface_terrain  longitude   latitude  code_type_local  \n",
       "0               351.0   1.071855  49.401886              1.0  \n",
       "1               452.0   1.070963  49.402764              1.0  \n",
       "2               498.0   1.070475  49.403622              1.0  \n",
       "3               105.0   1.074902  49.403036              2.0  \n",
       "5               348.0   1.071647  49.401956              1.0  \n",
       "...               ...        ...        ...              ...  \n",
       "1317            374.0   1.072432  49.400659              1.0  \n",
       "1318            434.0   1.069653  49.399310              1.0  \n",
       "1319            369.0   1.072534  49.400600              1.0  \n",
       "1320            354.0   1.071759  49.399769              1.0  \n",
       "1322           3973.0   1.059789  49.390736              2.0  \n",
       "\n",
       "[1201 rows x 7 columns]"
      ]
     },
     "execution_count": 3730,
     "metadata": {},
     "output_type": "execute_result"
    }
   ],
   "source": [
    "h"
   ]
  },
  {
   "attachments": {},
   "cell_type": "markdown",
   "metadata": {},
   "source": [
    "Le nombre total exploitable de données après traitement est de 1201 exemple (cela semble très bas)"
   ]
  },
  {
   "attachments": {},
   "cell_type": "markdown",
   "metadata": {},
   "source": [
    "# Construction du modèle"
   ]
  },
  {
   "attachments": {},
   "cell_type": "markdown",
   "metadata": {},
   "source": [
    "## Sélection de modèle\n",
    "étant donné que pour des caractéristiques données en entrée nous souhaitons avoir en sortie le prix estimé du bien, il s’agit ici d’apprentissage supervisé et d'une tâche de régression. On va opter pour Une regression linéaire. \n"
   ]
  },
  {
   "cell_type": "code",
   "execution_count": 3731,
   "metadata": {},
   "outputs": [
    {
     "data": {
      "text/html": [
       "<div>\n",
       "<style scoped>\n",
       "    .dataframe tbody tr th:only-of-type {\n",
       "        vertical-align: middle;\n",
       "    }\n",
       "\n",
       "    .dataframe tbody tr th {\n",
       "        vertical-align: top;\n",
       "    }\n",
       "\n",
       "    .dataframe thead th {\n",
       "        text-align: right;\n",
       "    }\n",
       "</style>\n",
       "<table border=\"1\" class=\"dataframe\">\n",
       "  <thead>\n",
       "    <tr style=\"text-align: right;\">\n",
       "      <th></th>\n",
       "      <th>surface_reelle_bati</th>\n",
       "      <th>nombre_pieces_principales</th>\n",
       "      <th>surface_terrain</th>\n",
       "      <th>code_type_local</th>\n",
       "      <th>longitude</th>\n",
       "      <th>latitude</th>\n",
       "    </tr>\n",
       "  </thead>\n",
       "  <tbody>\n",
       "    <tr>\n",
       "      <th>0</th>\n",
       "      <td>129.0</td>\n",
       "      <td>4.0</td>\n",
       "      <td>351.0</td>\n",
       "      <td>1.0</td>\n",
       "      <td>1.071855</td>\n",
       "      <td>49.401886</td>\n",
       "    </tr>\n",
       "    <tr>\n",
       "      <th>1</th>\n",
       "      <td>64.0</td>\n",
       "      <td>4.0</td>\n",
       "      <td>452.0</td>\n",
       "      <td>1.0</td>\n",
       "      <td>1.070963</td>\n",
       "      <td>49.402764</td>\n",
       "    </tr>\n",
       "    <tr>\n",
       "      <th>2</th>\n",
       "      <td>64.0</td>\n",
       "      <td>4.0</td>\n",
       "      <td>498.0</td>\n",
       "      <td>1.0</td>\n",
       "      <td>1.070475</td>\n",
       "      <td>49.403622</td>\n",
       "    </tr>\n",
       "    <tr>\n",
       "      <th>3</th>\n",
       "      <td>18.0</td>\n",
       "      <td>1.0</td>\n",
       "      <td>105.0</td>\n",
       "      <td>2.0</td>\n",
       "      <td>1.074902</td>\n",
       "      <td>49.403036</td>\n",
       "    </tr>\n",
       "    <tr>\n",
       "      <th>5</th>\n",
       "      <td>108.0</td>\n",
       "      <td>5.0</td>\n",
       "      <td>348.0</td>\n",
       "      <td>1.0</td>\n",
       "      <td>1.071647</td>\n",
       "      <td>49.401956</td>\n",
       "    </tr>\n",
       "  </tbody>\n",
       "</table>\n",
       "</div>"
      ],
      "text/plain": [
       "   surface_reelle_bati  nombre_pieces_principales  surface_terrain  \\\n",
       "0                129.0                        4.0            351.0   \n",
       "1                 64.0                        4.0            452.0   \n",
       "2                 64.0                        4.0            498.0   \n",
       "3                 18.0                        1.0            105.0   \n",
       "5                108.0                        5.0            348.0   \n",
       "\n",
       "   code_type_local  longitude   latitude  \n",
       "0              1.0   1.071855  49.401886  \n",
       "1              1.0   1.070963  49.402764  \n",
       "2              1.0   1.070475  49.403622  \n",
       "3              2.0   1.074902  49.403036  \n",
       "5              1.0   1.071647  49.401956  "
      ]
     },
     "execution_count": 3731,
     "metadata": {},
     "output_type": "execute_result"
    }
   ],
   "source": [
    "X=h[['surface_reelle_bati','nombre_pieces_principales','surface_terrain','code_type_local','longitude','latitude']]\n",
    "\n",
    "y=h['valeur_fonciere']\n",
    "X.head()"
   ]
  },
  {
   "attachments": {},
   "cell_type": "markdown",
   "metadata": {},
   "source": [
    "# Train Linear Regression Model\n"
   ]
  },
  {
   "cell_type": "code",
   "execution_count": 3732,
   "metadata": {},
   "outputs": [],
   "source": [
    "import sklearn\n",
    "from sklearn.model_selection import train_test_split\n",
    "from sklearn.linear_model import LinearRegression\n",
    "from sklearn.metrics import confusion_matrix\n",
    "from sklearn.metrics import classification_report\n",
    "from sklearn.linear_model  import Lasso\n",
    "from sklearn.model_selection  import RepeatedKFold\n",
    "from sklearn.model_selection import cross_val_score"
   ]
  },
  {
   "cell_type": "code",
   "execution_count": 3746,
   "metadata": {},
   "outputs": [
    {
     "name": "stderr",
     "output_type": "stream",
     "text": [
      "c:\\Users\\Ordi\\miniconda3\\lib\\site-packages\\numpy\\core\\fromnumeric.py:3430: FutureWarning: In a future version, DataFrame.mean(axis=None) will return a scalar mean over the entire DataFrame. To retain the old behavior, use 'frame.mean(axis=0)' or just 'frame.mean()'\n",
      "  return mean(axis=axis, dtype=dtype, out=out, **kwargs)\n"
     ]
    }
   ],
   "source": [
    "X_train, X_test, y_train, y_test = train_test_split(X, y,test_size =0.3)\n",
    "X = (X - np.mean(X)) / np.std(X_train)"
   ]
  },
  {
   "attachments": {},
   "cell_type": "markdown",
   "metadata": {},
   "source": [
    "### On effectue une cross-validation (très importante)"
   ]
  },
  {
   "cell_type": "code",
   "execution_count": 3747,
   "metadata": {},
   "outputs": [
    {
     "data": {
      "text/plain": [
       "array([0.54009574, 0.4806044 , 0.41456877, 0.66500649, 0.58307252])"
      ]
     },
     "execution_count": 3747,
     "metadata": {},
     "output_type": "execute_result"
    }
   ],
   "source": [
    "model = LinearRegression()\n",
    "score=cross_val_score(model,X_train,y_train,cv=5)\n",
    "model.fit(X_train, y_train)\n",
    "#Cross Validation\n",
    "y_predict = model.predict(X_test)\n",
    "score\n"
   ]
  },
  {
   "attachments": {},
   "cell_type": "markdown",
   "metadata": {},
   "source": [
    "Les résultats obtenus sont assez proches les uns des autres, cela nous montre que notre modèle est assez stable avec la database données.\n",
    "La cross-validation est particulièrement utile lorsque l'on a peu de données d'apprentissage ."
   ]
  },
  {
   "attachments": {},
   "cell_type": "markdown",
   "metadata": {},
   "source": [
    "### Score R2\n",
    "Le score R2, également appelé coefficient de détermination, est une mesure de la performance d'un modèle de régression. Il mesure la proportion de la variance des valeurs cibles prédites par le modèle par rapport à la variance des valeurs cibles réelles. Plus le score R2 est proche de 1, meilleure est la performance du modèle. Un score R2 de 0 indique que le modèle ne prédit pas mieux que de simplement utiliser la valeur moyenne des cibles comme prédiction, tandis qu'un score R2 de 1 indique que le modèle prédit parfaitement les cibles."
   ]
  },
  {
   "cell_type": "code",
   "execution_count": 3735,
   "metadata": {},
   "outputs": [
    {
     "data": {
      "text/plain": [
       "0.5641255197447353"
      ]
     },
     "execution_count": 3735,
     "metadata": {},
     "output_type": "execute_result"
    }
   ],
   "source": [
    "# importing r2_score module\n",
    "from sklearn.metrics import r2_score\n",
    "from sklearn.metrics import mean_squared_error\n",
    "# predicting the accuracy score\n",
    "score=r2_score(y_test,y_predict)\n",
    "\n",
    "score"
   ]
  },
  {
   "attachments": {},
   "cell_type": "markdown",
   "metadata": {},
   "source": [
    "Nous Obtenons un score qui varie entre 0.50 à 0.65, vu la faible quantité de nos données et leur qualité, nous somme assez satisfait de cette valeur"
   ]
  },
  {
   "cell_type": "code",
   "execution_count": 3736,
   "metadata": {},
   "outputs": [],
   "source": [
    "d = {'Prediction PSF':y_predict, 'Actual PSF': y_test}"
   ]
  },
  {
   "cell_type": "code",
   "execution_count": 3737,
   "metadata": {},
   "outputs": [
    {
     "data": {
      "text/html": [
       "<div>\n",
       "<style scoped>\n",
       "    .dataframe tbody tr th:only-of-type {\n",
       "        vertical-align: middle;\n",
       "    }\n",
       "\n",
       "    .dataframe tbody tr th {\n",
       "        vertical-align: top;\n",
       "    }\n",
       "\n",
       "    .dataframe thead th {\n",
       "        text-align: right;\n",
       "    }\n",
       "</style>\n",
       "<table border=\"1\" class=\"dataframe\">\n",
       "  <thead>\n",
       "    <tr style=\"text-align: right;\">\n",
       "      <th></th>\n",
       "      <th>Prediction PSF</th>\n",
       "      <th>Actual PSF</th>\n",
       "    </tr>\n",
       "  </thead>\n",
       "  <tbody>\n",
       "    <tr>\n",
       "      <th>540</th>\n",
       "      <td>152479.197693</td>\n",
       "      <td>140000.0</td>\n",
       "    </tr>\n",
       "    <tr>\n",
       "      <th>992</th>\n",
       "      <td>115803.319036</td>\n",
       "      <td>53850.0</td>\n",
       "    </tr>\n",
       "    <tr>\n",
       "      <th>1317</th>\n",
       "      <td>148321.401478</td>\n",
       "      <td>145000.0</td>\n",
       "    </tr>\n",
       "    <tr>\n",
       "      <th>764</th>\n",
       "      <td>132679.368902</td>\n",
       "      <td>100000.0</td>\n",
       "    </tr>\n",
       "    <tr>\n",
       "      <th>1312</th>\n",
       "      <td>162457.954587</td>\n",
       "      <td>178500.0</td>\n",
       "    </tr>\n",
       "  </tbody>\n",
       "</table>\n",
       "</div>"
      ],
      "text/plain": [
       "      Prediction PSF  Actual PSF\n",
       "540    152479.197693    140000.0\n",
       "992    115803.319036     53850.0\n",
       "1317   148321.401478    145000.0\n",
       "764    132679.368902    100000.0\n",
       "1312   162457.954587    178500.0"
      ]
     },
     "execution_count": 3737,
     "metadata": {},
     "output_type": "execute_result"
    }
   ],
   "source": [
    "output = pd.DataFrame(d)\n",
    "output.head()"
   ]
  },
  {
   "cell_type": "code",
   "execution_count": 3738,
   "metadata": {},
   "outputs": [
    {
     "data": {
      "image/png": "[encoded data removed]",
      "text/plain": [
       "<Figure size 640x480 with 1 Axes>"
      ]
     },
     "metadata": {},
     "output_type": "display_data"
    }
   ],
   "source": [
    "import matplotlib.pyplot as plt\n",
    "\n",
    "fig, ax = plt.subplots()\n",
    "ax.scatter(y_test, y_predict)\n",
    "ax.plot([y.min(), y.max()], [y.min(), y.max()], 'k--', lw=4)\n",
    "ax.set_xlabel('Valeurs réelles')\n",
    "ax.set_ylabel('valeurs prédites')\n",
    "plt.show()\n",
    "\n",
    "\n"
   ]
  },
  {
   "attachments": {},
   "cell_type": "markdown",
   "metadata": {},
   "source": [
    "La Droite de 45 degrés illustre la situation idéale ou les valeurs prédites sont égales au valeurs réelles\n",
    "les points bleu représentes nos prédictions, elles ont l'air assez proches de la ligne\n",
    "nous en somme satisfaits"
   ]
  },
  {
   "attachments": {},
   "cell_type": "markdown",
   "metadata": {},
   "source": [
    "# Sauvegarde du modèle\n"
   ]
  },
  {
   "cell_type": "code",
   "execution_count": 3739,
   "metadata": {},
   "outputs": [
    {
     "name": "stderr",
     "output_type": "stream",
     "text": [
      "c:\\Users\\Ordi\\miniconda3\\lib\\site-packages\\sklearn\\base.py:450: UserWarning: X does not have valid feature names, but LinearRegression was fitted with feature names\n",
      "  warnings.warn(\n"
     ]
    },
    {
     "data": {
      "text/plain": [
       "array([140430.84118789])"
      ]
     },
     "execution_count": 3739,
     "metadata": {},
     "output_type": "execute_result"
    }
   ],
   "source": [
    "import onnx\n",
    "import pickle\n",
    "from skl2onnx import convert_sklearn\n",
    "from skl2onnx.common.data_types import FloatTensorType\n",
    "\n",
    "\n",
    "with open ('pickle_model','wb') as file : pickle.dump(model,file)\n",
    "\n",
    "with open ('pickle_model','rb') as file : \n",
    "    pickle_file=pickle.load(file)\n",
    "'''         h[['surface_reelle_bati','nombre_pieces_principales','surface_terrain','code_type_local','longitude','latitude']]       '''\n",
    "pickle_file.predict([[64,4,400,1,1.070963,49.402764]])\n",
    "\n",
    "\n"
   ]
  },
  {
   "cell_type": "code",
   "execution_count": 3741,
   "metadata": {},
   "outputs": [
    {
     "name": "stdout",
     "output_type": "stream",
     "text": [
      "[ 1.23503578e+03 -7.64882062e+02  6.86066431e+01  3.79342696e+05\n",
      "  1.19435439e+06  1.74140110e+06]\n"
     ]
    },
    {
     "data": {
      "text/plain": [
       "-87651474.38098606"
      ]
     },
     "execution_count": 3741,
     "metadata": {},
     "output_type": "execute_result"
    }
   ],
   "source": [
    "np.min(prix)\n",
    "np.max(prix)\n",
    "h.shape\n",
    "\n",
    "print(model.coef_)\n",
    "model.intercept_\n",
    "\n"
   ]
  }
 ],
 "metadata": {
  "kernelspec": {
   "display_name": "Python 3",
   "language": "python",
   "name": "python3"
  },
  "language_info": {
   "codemirror_mode": {
    "name": "ipython",
    "version": 3
   },
   "file_extension": ".py",
   "mimetype": "text/x-python",
   "name": "python",
   "nbconvert_exporter": "python",
   "pygments_lexer": "ipython3",
   "version": "3.9.12"
  },
  "orig_nbformat": 4,
  "vscode": {
   "interpreter": {
    "hash": "a6e15c65abf34f99b33476d74fed29135f10c6e35091521328467da101522393"
   }
  }
 },
 "nbformat": 4,
 "nbformat_minor": 2
}
